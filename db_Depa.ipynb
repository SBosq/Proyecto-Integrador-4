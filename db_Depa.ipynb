{
 "cells": [
  {
   "cell_type": "code",
   "execution_count": 5,
   "metadata": {},
   "outputs": [],
   "source": [
    "import pymysql\n",
    "\n",
    "f = open(r\"C:\\Users\\saulo\\OneDrive\\Documents\\tabla_Departamento.csv\", \"r\")\n",
    "fString = f.read()\n",
    "\n",
    "fList= []\n",
    "for line in fString.split('\\n'):\n",
    "    fList.append(line.split(','))\n",
    "    \n",
    "db = pymysql.connect(\"localhost\", \"testuser\", \"test123\", \"TESTDB\")\n",
    "\n",
    "cursor = db.cursor()\n",
    "\n",
    "cursor.execute(\"DROP TABLE IF EXISTS Departamento\")\n",
    "\n",
    "dep_ID = fList[0][0]; nom_lug = fList[0][1]; ac_ID = fList[0][2]\n",
    "\n",
    "queryCreateDepartamentoTable = \"\"\"CREATE TABLE Departamento(\n",
    "                                {} varchar(60) not null,\n",
    "                                {} varchar(60) not null,\n",
    "                                {} varchar(60) not null,\n",
    "                                CONSTRAINT PK_Departamento PRIMARY KEY(dep_ID, nom_lug)                                \n",
    "                                )\"\"\".format(dep_ID, nom_lug, ac_ID)\n",
    "\n",
    "\n",
    "cursor.execute(queryCreateDepartamentoTable)\n",
    "\n",
    "del fList[0]\n",
    "\n",
    "rows = ''\n",
    "for i in range (len(fList) -1):\n",
    "    rows += \"('{}', '{}', '{}')\".format(fList[i][0], fList[i][1], fList[i][2])\n",
    "    if i != len(fList) -2:\n",
    "        rows += ','\n",
    "\n",
    "queryInsert = \"INSERT INTO Departamento VALUES\" + rows\n",
    "\n",
    "try:\n",
    "    cursor.execute(queryInsert)\n",
    "    db.commit()\n",
    "except:\n",
    "    db.rollback()\n",
    "\n",
    "db.close()"
   ]
  },
  {
   "cell_type": "code",
   "execution_count": null,
   "metadata": {},
   "outputs": [],
   "source": []
  }
 ],
 "metadata": {
  "kernelspec": {
   "display_name": "Python 3",
   "language": "python",
   "name": "python3"
  },
  "language_info": {
   "codemirror_mode": {
    "name": "ipython",
    "version": 3
   },
   "file_extension": ".py",
   "mimetype": "text/x-python",
   "name": "python",
   "nbconvert_exporter": "python",
   "pygments_lexer": "ipython3",
   "version": "3.7.3"
  }
 },
 "nbformat": 4,
 "nbformat_minor": 4
}
