{
 "cells": [
  {
   "cell_type": "code",
   "execution_count": 2,
   "metadata": {},
   "outputs": [],
   "source": [
    "import pymysql\n",
    "\n",
    "f = open(r\"C:\\Users\\saulo\\OneDrive\\Documents\\tabla_Empleado.csv\", \"r\")\n",
    "fString = f.read()\n",
    "\n",
    "fList= []\n",
    "for line in fString.split('\\n'):\n",
    "    fList.append(line.split(','))\n",
    "    \n",
    "db = pymysql.connect(\"localhost\", \"testuser\", \"test123\", \"TESTDB\")\n",
    "\n",
    "cursor = db.cursor()\n",
    "\n",
    "cursor.execute(\"DROP TABLE IF EXISTS Empleado\")\n",
    "\n",
    "mat_Emp = fList[0][0]; nom_Emp = fList[0][1]; dep_ID = fList[0][2]\n",
    "\n",
    "queryCreateEmpleadoTable = \"\"\"CREATE TABLE Empleado(\n",
    "                                {} int(6) not null,\n",
    "                                {} varchar(90) not null,\n",
    "                                {} varchar(60) not null,\n",
    "                                CONSTRAINT PK_Empleado PRIMARY KEY(mat_Emp, nom_Emp)\n",
    "                                )\"\"\".format(mat_Emp, nom_Emp, dep_ID)\n",
    "\n",
    "cursor.execute(queryCreateEmpleadoTable)\n",
    "\n",
    "del fList[0]\n",
    "\n",
    "rows = ''\n",
    "for i in range (len(fList) -1):\n",
    "    rows += \"('{}', '{}', '{}')\".format(fList[i][0], fList[i][1], fList[i][2])\n",
    "    if i != len(fList) -2:\n",
    "        rows += ','\n",
    "\n",
    "queryInsert = \"INSERT INTO Empleado VALUES\" + rows\n",
    "\n",
    "try:\n",
    "    cursor.execute(queryInsert)\n",
    "    db.commit()\n",
    "except:\n",
    "    db.rollback()\n",
    "\n",
    "db.close()"
   ]
  },
  {
   "cell_type": "code",
   "execution_count": null,
   "metadata": {},
   "outputs": [],
   "source": []
  }
 ],
 "metadata": {
  "kernelspec": {
   "display_name": "Python 3",
   "language": "python",
   "name": "python3"
  },
  "language_info": {
   "codemirror_mode": {
    "name": "ipython",
    "version": 3
   },
   "file_extension": ".py",
   "mimetype": "text/x-python",
   "name": "python",
   "nbconvert_exporter": "python",
   "pygments_lexer": "ipython3",
   "version": "3.7.3"
  }
 },
 "nbformat": 4,
 "nbformat_minor": 4
}
